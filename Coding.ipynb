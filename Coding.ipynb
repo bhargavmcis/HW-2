{
 "cells": [
  {
   "cell_type": "markdown",
   "metadata": {},
   "source": [
    "# Task: Data Extraction, Selection and Transformation"
   ]
  },
  {
   "cell_type": "code",
   "execution_count": 45,
   "metadata": {},
   "outputs": [],
   "source": [
    "import os\n",
    "import requests\n",
    "import zipfile as zf\n",
    "import shutil\n",
    "\n",
    "for i in range(1975, 2021, 5):\n",
    "    zip_file_url = f\"https://static.nhtsa.gov/nhtsa/downloads/FARS/{i}/National/FARS{i}NationalCSV.zip\"\n",
    "    output = f'{i}_data.zip'\n",
    "    \n",
    "    r = requests.get(zip_file_url)\n",
    "    with open(output, 'wb') as f:\n",
    "        f.write(r.content)\n",
    "        \n",
    "    with zf.ZipFile(output, 'r') as zip_ref:\n",
    "        zip_ref.extractall(f\"{i}\")\n",
    "        \n",
    "os.mkdir(\"accident_all_years\")\n",
    "for i in range(1975, 2021, 5):\n",
    "    shutil.copy2(f\"{i}/accident.csv\", f\"accident_all_years/{i}_accident.csv\")"
   ]
  },
  {
   "cell_type": "markdown",
   "metadata": {},
   "source": [
    "# Manipulate and analyze the data from NHTSA"
   ]
  },
  {
   "cell_type": "code",
   "execution_count": 46,
   "metadata": {},
   "outputs": [],
   "source": [
    "import pandas as pd\n",
    "import numpy as np\n",
    "import matplotlib.pyplot as plt"
   ]
  },
  {
   "cell_type": "code",
   "execution_count": 48,
   "metadata": {},
   "outputs": [],
   "source": [
    "df= pd.DataFrame()\n",
    "accidents, people, deaths, midnight, snowy= 0, 0, 0, 0, 0\n",
    "deaths_list= []\n",
    "\n",
    "for i in range(1975, 2021, 5):\n",
    "    temp_df= pd.read_csv(f\"accident_all_years/{i}_accident.csv\", encoding= 'ISO-8859-1')\n",
    "    df= pd.concat([df, temp_df]).reset_index(drop=True)\n",
    "    accidents += temp_df.shape[0]\n",
    "    people += sum(temp_df.PERSONS)\n",
    "    deaths += sum(temp_df.FATALS)\n",
    "    for hr in [21, 22, 23, 24, 0, 1, 2, 3]:\n",
    "        midnight += temp_df[temp_df.HOUR == hr].shape[0]\n",
    "    snowy += temp_df[temp_df.WEATHER == 4].shape[0]\n",
    "    s= sum(temp_df.FATALS)\n",
    "    deaths_list.append(s)"
   ]
  },
  {
   "cell_type": "code",
   "execution_count": 49,
   "metadata": {},
   "outputs": [
    {
     "name": "stdout",
     "output_type": "stream",
     "text": [
      "Total number of Fatal accidents from 1975 to 2020:  376096\n",
      "Total People involved: 955696 \n",
      "Total People died: 418619\n",
      "Proportion of accidents occurred between 9pm and 4am: 32.81 %\n",
      "Proportion of accidents occurred in Snowy weather: 1.63 %\n"
     ]
    },
    {
     "data": {
      "image/png": "[encoded data removed]",
      "text/plain": [
       "<Figure size 432x288 with 1 Axes>"
      ]
     },
     "metadata": {
      "needs_background": "light"
     },
     "output_type": "display_data"
    }
   ],
   "source": [
    "print(\"Total number of Fatal accidents from 1975 to 2020: \", accidents)\n",
    "print(\"Total People involved:\", people, \"\\nTotal People died:\", deaths)\n",
    "print(\"Proportion of accidents occurred between 9pm and 4am:\", round((midnight / accidents)*100, 2), \"%\")\n",
    "print(\"Proportion of accidents occurred in Snowy weather:\", round((snowy / accidents)*100, 2), \"%\")\n",
    "plt.plot(range(1975, 2021, 5), deaths_list)\n",
    "plt.xlabel(\"Year\")\n",
    "plt.ylabel(\"Deaths\")\n",
    "plt.show()"
   ]
  },
  {
   "cell_type": "markdown",
   "metadata": {},
   "source": [
    "**From the graph above, we can observe that, with the increase in the year, the deaths have been decreasing.**"
   ]
  },
  {
   "cell_type": "markdown",
   "metadata": {},
   "source": [
    "---"
   ]
  },
  {
   "cell_type": "code",
   "execution_count": 52,
   "metadata": {},
   "outputs": [],
   "source": [
    "import collections as c"
   ]
  },
  {
   "cell_type": "code",
   "execution_count": 51,
   "metadata": {},
   "outputs": [
    {
     "name": "stdout",
     "output_type": "stream",
     "text": [
      "The mean rate of Fatal accidents:  1.1130642176465584\n"
     ]
    }
   ],
   "source": [
    "print(\"The mean rate of Fatal accidents: \", df.FATALS.mean())"
   ]
  },
  {
   "cell_type": "code",
   "execution_count": 61,
   "metadata": {},
   "outputs": [
    {
     "name": "stdout",
     "output_type": "stream",
     "text": [
      "In 1975, the 5 states which had the highest rate of fatal accidents: [17, 42, 36, 48, 6]\n",
      "And the 5 states which had the lowest rate of fatal accidents: [11, 44, 2, 10, 50]\n"
     ]
    }
   ],
   "source": [
    "temp_df = pd.read_csv(f\"accident_all_years/1975_accident.csv\", encoding= 'ISO-8859-1')\n",
    "unique_states = list(temp_df.STATE.unique())\n",
    "deaths = {}\n",
    "for i in list(unique_states):\n",
    "    deaths[i]= temp_df[temp_df.STATE==i].FATALS.sum()\n",
    "deaths = {k: v for k, v in sorted(deaths.items(), key=lambda item: item[1])}\n",
    "dead_keys = list(deaths.keys())\n",
    "\n",
    "print(\"In 1975, the 5 states which had the highest rate of fatal accidents:\", dead_keys[-5:])\n",
    "print(\"And the 5 states which had the lowest rate of fatal accidents:\", dead_keys[:5])"
   ]
  },
  {
   "cell_type": "code",
   "execution_count": 62,
   "metadata": {},
   "outputs": [
    {
     "name": "stdout",
     "output_type": "stream",
     "text": [
      "In 1990, the 5 states which had the highest rate of fatal accidents: [42, 36, 12, 48, 6]\n",
      "And the 5 states which had the lowest rate of fatal accidents: [11, 44, 2, 50, 38]\n"
     ]
    }
   ],
   "source": [
    "temp_df= pd.read_csv(f\"accident_all_years/1990_accident.csv\", encoding = 'ISO-8859-1')\n",
    "unique_states = list(temp_df.STATE.unique())\n",
    "deaths = {}\n",
    "for i in list(unique_states):\n",
    "    deaths[i] = temp_df[temp_df.STATE==i].FATALS.sum()\n",
    "deaths = {k: v for k, v in sorted(deaths.items(), key=lambda item: item[1])}\n",
    "dead_keys = list(od.keys())\n",
    "\n",
    "print(\"In 1990, the 5 states which had the highest rate of fatal accidents:\", od_keys[-5:])\n",
    "print(\"And the 5 states which had the lowest rate of fatal accidents:\" ,od_keys[:5])"
   ]
  },
  {
   "cell_type": "code",
   "execution_count": 63,
   "metadata": {},
   "outputs": [
    {
     "name": "stdout",
     "output_type": "stream",
     "text": [
      "The mean rate in 2020: 1.0855001957166024\n"
     ]
    }
   ],
   "source": [
    "temp_df= pd.read_csv(f\"accident_all_years/2020_accident.csv\", encoding= 'ISO-8859-1')\n",
    "print(\"The mean rate in 2020:\", temp_df.FATALS.mean())"
   ]
  },
  {
   "cell_type": "code",
   "execution_count": 73,
   "metadata": {},
   "outputs": [
    {
     "data": {
      "image/png": "[encoded data removed]",
      "text/plain": [
       "<Figure size 432x288 with 1 Axes>"
      ]
     },
     "metadata": {
      "needs_background": "light"
     },
     "output_type": "display_data"
    }
   ],
   "source": [
    "# for top five\n",
    "meanRates= []\n",
    "for i in range(1975, 2021, 5):\n",
    "    temp_df= pd.DataFrame()\n",
    "    temp_df2= pd.read_csv(f\"accident_all_years/{i}_accident.csv\", encoding = 'ISO-8859-1')\n",
    "    unique_states= list(temp_df2.STATE.unique())\n",
    "    deaths= {}\n",
    "    for j in list(unique_states):\n",
    "        deaths[i]= temp_df2[temp_df2.STATE==j].FATALS.sum()\n",
    "    deaths= {k: v for k, v in sorted(deaths.items(), key= lambda item: item[1])}\n",
    "    dead_keys = list(od.keys())\n",
    "    top_five = dead_keys[-5:]\n",
    "    bottom_five = dead_keys[:5]\n",
    "    for k in top_five:\n",
    "        temp_df= pd.concat([temp_df, temp_df2[temp_df2.STATE==k]])\n",
    "    meanRates.append(temp_df.FATALS.mean())\n",
    "    \n",
    "plt.plot(range(1975, 2021, 5), meanRates)\n",
    "plt.xlabel(\"Year\")\n",
    "plt.ylabel(\"Mean Rate\")\n",
    "plt.title(\"Top Five states\")\n",
    "plt.show()"
   ]
  },
  {
   "cell_type": "code",
   "execution_count": 74,
   "metadata": {},
   "outputs": [
    {
     "data": {
      "image/png": "[encoded data removed]",
      "text/plain": [
       "<Figure size 432x288 with 1 Axes>"
      ]
     },
     "metadata": {
      "needs_background": "light"
     },
     "output_type": "display_data"
    }
   ],
   "source": [
    "# for bottom five\n",
    "meanRates= []\n",
    "for i in range(1975, 2021, 5):\n",
    "    temp_df= pd.DataFrame()\n",
    "    temp_df2= pd.read_csv(f\"accident_all_years/{i}_accident.csv\", encoding = 'ISO-8859-1')\n",
    "    unique_states= list(temp_df2.STATE.unique())\n",
    "    deaths= {}\n",
    "    for j in list(unique_states):\n",
    "        deaths[i]= df[df.STATE==j].FATALS.sum()\n",
    "    deaths= {k: v for k, v in sorted(deaths.items(), key= lambda item: item[1])}\n",
    "    dead_keys = list(od.keys())\n",
    "    bottom_five = dead_keys[:5]\n",
    "    for k in bottom_five:\n",
    "        temp_df= pd.concat([temp_df, temp_df2[temp_df2.STATE==k]])\n",
    "    meanRates.append(temp_df.FATALS.mean())\n",
    "    \n",
    "plt.plot(range(1975, 2021, 5), meanRates)\n",
    "plt.xlabel(\"Year\")\n",
    "plt.ylabel(\"Mean Rate\")\n",
    "plt.title(\"Bottom Five states\")\n",
    "plt.show()"
   ]
  },
  {
   "cell_type": "markdown",
   "metadata": {},
   "source": [
    "**I think the in the top 5 states, the mean rate is decreasing with the increase in the year. But, in the bottom 5 states, the mean rate is fluctuating.**"
   ]
  },
  {
   "cell_type": "markdown",
   "metadata": {},
   "source": [
    "---"
   ]
  },
  {
   "cell_type": "code",
   "execution_count": 114,
   "metadata": {},
   "outputs": [],
   "source": [
    "from sklearn.preprocessing import MinMaxScaler\n",
    "from sklearn.neighbors import NearestNeighbors"
   ]
  },
  {
   "cell_type": "code",
   "execution_count": 75,
   "metadata": {},
   "outputs": [],
   "source": [
    "columns= [\"STATE\", 'MONTH', 'DAY', 'YEAR', 'HOUR', 'PERSONS', 'MAN_COLL',\n",
    "          'LGT_COND', 'WEATHER', 'SCH_BUS', 'FATALS', 'DAY_WEEK', 'DRUNK_DR']\n",
    "temp_df= df.loc[:, columns]\n",
    "temp_df= temp_df.sample(n=5000)\n",
    "temp_df.dropna(inplace=True)"
   ]
  },
  {
   "cell_type": "code",
   "execution_count": 76,
   "metadata": {},
   "outputs": [
    {
     "data": {
      "text/html": [
       "<div>\n",
       "<style scoped>\n",
       "    .dataframe tbody tr th:only-of-type {\n",
       "        vertical-align: middle;\n",
       "    }\n",
       "\n",
       "    .dataframe tbody tr th {\n",
       "        vertical-align: top;\n",
       "    }\n",
       "\n",
       "    .dataframe thead th {\n",
       "        text-align: right;\n",
       "    }\n",
       "</style>\n",
       "<table border=\"1\" class=\"dataframe\">\n",
       "  <thead>\n",
       "    <tr style=\"text-align: right;\">\n",
       "      <th></th>\n",
       "      <th>STATE</th>\n",
       "      <th>MONTH</th>\n",
       "      <th>DAY</th>\n",
       "      <th>YEAR</th>\n",
       "      <th>HOUR</th>\n",
       "      <th>PERSONS</th>\n",
       "      <th>MAN_COLL</th>\n",
       "      <th>LGT_COND</th>\n",
       "      <th>WEATHER</th>\n",
       "      <th>SCH_BUS</th>\n",
       "      <th>FATALS</th>\n",
       "      <th>DAY_WEEK</th>\n",
       "      <th>DRUNK_DR</th>\n",
       "    </tr>\n",
       "  </thead>\n",
       "  <tbody>\n",
       "    <tr>\n",
       "      <th>44183</th>\n",
       "      <td>6</td>\n",
       "      <td>8</td>\n",
       "      <td>14</td>\n",
       "      <td>80</td>\n",
       "      <td>6</td>\n",
       "      <td>2</td>\n",
       "      <td>4</td>\n",
       "      <td>1</td>\n",
       "      <td>1</td>\n",
       "      <td>0.0</td>\n",
       "      <td>1</td>\n",
       "      <td>5</td>\n",
       "      <td>0</td>\n",
       "    </tr>\n",
       "    <tr>\n",
       "      <th>128670</th>\n",
       "      <td>6</td>\n",
       "      <td>8</td>\n",
       "      <td>5</td>\n",
       "      <td>90</td>\n",
       "      <td>5</td>\n",
       "      <td>1</td>\n",
       "      <td>0</td>\n",
       "      <td>3</td>\n",
       "      <td>1</td>\n",
       "      <td>0.0</td>\n",
       "      <td>1</td>\n",
       "      <td>1</td>\n",
       "      <td>0</td>\n",
       "    </tr>\n",
       "    <tr>\n",
       "      <th>96822</th>\n",
       "      <td>17</td>\n",
       "      <td>7</td>\n",
       "      <td>4</td>\n",
       "      <td>85</td>\n",
       "      <td>20</td>\n",
       "      <td>3</td>\n",
       "      <td>2</td>\n",
       "      <td>1</td>\n",
       "      <td>1</td>\n",
       "      <td>0.0</td>\n",
       "      <td>1</td>\n",
       "      <td>5</td>\n",
       "      <td>1</td>\n",
       "    </tr>\n",
       "    <tr>\n",
       "      <th>371723</th>\n",
       "      <td>48</td>\n",
       "      <td>7</td>\n",
       "      <td>27</td>\n",
       "      <td>2020</td>\n",
       "      <td>17</td>\n",
       "      <td>2</td>\n",
       "      <td>6</td>\n",
       "      <td>1</td>\n",
       "      <td>1</td>\n",
       "      <td>0.0</td>\n",
       "      <td>1</td>\n",
       "      <td>2</td>\n",
       "      <td>1</td>\n",
       "    </tr>\n",
       "    <tr>\n",
       "      <th>162814</th>\n",
       "      <td>55</td>\n",
       "      <td>4</td>\n",
       "      <td>11</td>\n",
       "      <td>90</td>\n",
       "      <td>12</td>\n",
       "      <td>2</td>\n",
       "      <td>2</td>\n",
       "      <td>1</td>\n",
       "      <td>1</td>\n",
       "      <td>0.0</td>\n",
       "      <td>2</td>\n",
       "      <td>4</td>\n",
       "      <td>1</td>\n",
       "    </tr>\n",
       "  </tbody>\n",
       "</table>\n",
       "</div>"
      ],
      "text/plain": [
       "        STATE  MONTH  DAY  YEAR  HOUR  PERSONS  MAN_COLL  LGT_COND  WEATHER  \\\n",
       "44183       6      8   14    80     6        2         4         1        1   \n",
       "128670      6      8    5    90     5        1         0         3        1   \n",
       "96822      17      7    4    85    20        3         2         1        1   \n",
       "371723     48      7   27  2020    17        2         6         1        1   \n",
       "162814     55      4   11    90    12        2         2         1        1   \n",
       "\n",
       "        SCH_BUS  FATALS  DAY_WEEK  DRUNK_DR  \n",
       "44183       0.0       1         5         0  \n",
       "128670      0.0       1         1         0  \n",
       "96822       0.0       1         5         1  \n",
       "371723      0.0       1         2         1  \n",
       "162814      0.0       2         4         1  "
      ]
     },
     "execution_count": 76,
     "metadata": {},
     "output_type": "execute_result"
    }
   ],
   "source": [
    "temp_df.head()"
   ]
  },
  {
   "cell_type": "code",
   "execution_count": 79,
   "metadata": {},
   "outputs": [],
   "source": [
    "scaler= MinMaxScaler()\n",
    "scaled_data= scaler.fit_transform(temp_df.to_numpy())\n",
    "columns= list(temp_df.columns)\n",
    "temp_df= pd.DataFrame(scaled_data, columns= columns)"
   ]
  },
  {
   "cell_type": "code",
   "execution_count": 80,
   "metadata": {},
   "outputs": [
    {
     "data": {
      "text/html": [
       "<div>\n",
       "<style scoped>\n",
       "    .dataframe tbody tr th:only-of-type {\n",
       "        vertical-align: middle;\n",
       "    }\n",
       "\n",
       "    .dataframe tbody tr th {\n",
       "        vertical-align: top;\n",
       "    }\n",
       "\n",
       "    .dataframe thead th {\n",
       "        text-align: right;\n",
       "    }\n",
       "</style>\n",
       "<table border=\"1\" class=\"dataframe\">\n",
       "  <thead>\n",
       "    <tr style=\"text-align: right;\">\n",
       "      <th></th>\n",
       "      <th>STATE</th>\n",
       "      <th>MONTH</th>\n",
       "      <th>DAY</th>\n",
       "      <th>YEAR</th>\n",
       "      <th>HOUR</th>\n",
       "      <th>PERSONS</th>\n",
       "      <th>MAN_COLL</th>\n",
       "      <th>LGT_COND</th>\n",
       "      <th>WEATHER</th>\n",
       "      <th>SCH_BUS</th>\n",
       "      <th>FATALS</th>\n",
       "      <th>DAY_WEEK</th>\n",
       "      <th>DRUNK_DR</th>\n",
       "    </tr>\n",
       "  </thead>\n",
       "  <tbody>\n",
       "    <tr>\n",
       "      <th>0</th>\n",
       "      <td>0.090909</td>\n",
       "      <td>0.636364</td>\n",
       "      <td>0.132653</td>\n",
       "      <td>0.000000</td>\n",
       "      <td>0.060606</td>\n",
       "      <td>0.08</td>\n",
       "      <td>0.040404</td>\n",
       "      <td>0.00</td>\n",
       "      <td>0.0</td>\n",
       "      <td>0.0</td>\n",
       "      <td>0.0</td>\n",
       "      <td>0.500</td>\n",
       "      <td>0.00</td>\n",
       "    </tr>\n",
       "    <tr>\n",
       "      <th>1</th>\n",
       "      <td>0.090909</td>\n",
       "      <td>0.636364</td>\n",
       "      <td>0.040816</td>\n",
       "      <td>0.005155</td>\n",
       "      <td>0.050505</td>\n",
       "      <td>0.04</td>\n",
       "      <td>0.000000</td>\n",
       "      <td>0.25</td>\n",
       "      <td>0.0</td>\n",
       "      <td>0.0</td>\n",
       "      <td>0.0</td>\n",
       "      <td>0.000</td>\n",
       "      <td>0.00</td>\n",
       "    </tr>\n",
       "    <tr>\n",
       "      <th>2</th>\n",
       "      <td>0.290909</td>\n",
       "      <td>0.545455</td>\n",
       "      <td>0.030612</td>\n",
       "      <td>0.002577</td>\n",
       "      <td>0.202020</td>\n",
       "      <td>0.12</td>\n",
       "      <td>0.020202</td>\n",
       "      <td>0.00</td>\n",
       "      <td>0.0</td>\n",
       "      <td>0.0</td>\n",
       "      <td>0.0</td>\n",
       "      <td>0.500</td>\n",
       "      <td>0.25</td>\n",
       "    </tr>\n",
       "    <tr>\n",
       "      <th>3</th>\n",
       "      <td>0.854545</td>\n",
       "      <td>0.545455</td>\n",
       "      <td>0.265306</td>\n",
       "      <td>1.000000</td>\n",
       "      <td>0.171717</td>\n",
       "      <td>0.08</td>\n",
       "      <td>0.060606</td>\n",
       "      <td>0.00</td>\n",
       "      <td>0.0</td>\n",
       "      <td>0.0</td>\n",
       "      <td>0.0</td>\n",
       "      <td>0.125</td>\n",
       "      <td>0.25</td>\n",
       "    </tr>\n",
       "    <tr>\n",
       "      <th>4</th>\n",
       "      <td>0.981818</td>\n",
       "      <td>0.272727</td>\n",
       "      <td>0.102041</td>\n",
       "      <td>0.005155</td>\n",
       "      <td>0.121212</td>\n",
       "      <td>0.08</td>\n",
       "      <td>0.020202</td>\n",
       "      <td>0.00</td>\n",
       "      <td>0.0</td>\n",
       "      <td>0.0</td>\n",
       "      <td>0.2</td>\n",
       "      <td>0.375</td>\n",
       "      <td>0.25</td>\n",
       "    </tr>\n",
       "  </tbody>\n",
       "</table>\n",
       "</div>"
      ],
      "text/plain": [
       "      STATE     MONTH       DAY      YEAR      HOUR  PERSONS  MAN_COLL  \\\n",
       "0  0.090909  0.636364  0.132653  0.000000  0.060606     0.08  0.040404   \n",
       "1  0.090909  0.636364  0.040816  0.005155  0.050505     0.04  0.000000   \n",
       "2  0.290909  0.545455  0.030612  0.002577  0.202020     0.12  0.020202   \n",
       "3  0.854545  0.545455  0.265306  1.000000  0.171717     0.08  0.060606   \n",
       "4  0.981818  0.272727  0.102041  0.005155  0.121212     0.08  0.020202   \n",
       "\n",
       "   LGT_COND  WEATHER  SCH_BUS  FATALS  DAY_WEEK  DRUNK_DR  \n",
       "0      0.00      0.0      0.0     0.0     0.500      0.00  \n",
       "1      0.25      0.0      0.0     0.0     0.000      0.00  \n",
       "2      0.00      0.0      0.0     0.0     0.500      0.25  \n",
       "3      0.00      0.0      0.0     0.0     0.125      0.25  \n",
       "4      0.00      0.0      0.0     0.2     0.375      0.25  "
      ]
     },
     "execution_count": 80,
     "metadata": {},
     "output_type": "execute_result"
    }
   ],
   "source": [
    "temp_df.head()"
   ]
  },
  {
   "cell_type": "code",
   "execution_count": 115,
   "metadata": {},
   "outputs": [],
   "source": [
    "nn = NearestNeighbors(n_neighbors=20).fit(temp_df[['WEATHER', 'FATALS']])\n",
    "distances, indices = nn.kneighbors(temp_df[['WEATHER', 'FATALS']])"
   ]
  },
  {
   "cell_type": "code",
   "execution_count": 116,
   "metadata": {},
   "outputs": [
    {
     "name": "stdout",
     "output_type": "stream",
     "text": [
      "[[0. 0. 0. ... 0. 0. 0.]\n",
      " [0. 0. 0. ... 0. 0. 0.]\n",
      " [0. 0. 0. ... 0. 0. 0.]\n",
      " ...\n",
      " [0. 0. 0. ... 0. 0. 0.]\n",
      " [0. 0. 0. ... 0. 0. 0.]\n",
      " [0. 0. 0. ... 0. 0. 0.]]\n"
     ]
    }
   ],
   "source": [
    "print(distances)"
   ]
  },
  {
   "cell_type": "code",
   "execution_count": 117,
   "metadata": {},
   "outputs": [],
   "source": [
    "random_2_rows= temp_df.sample(2)"
   ]
  },
  {
   "cell_type": "markdown",
   "metadata": {},
   "source": [
    "---"
   ]
  },
  {
   "cell_type": "code",
   "execution_count": 118,
   "metadata": {},
   "outputs": [],
   "source": [
    "from sklearn.decomposition import PCA"
   ]
  },
  {
   "cell_type": "code",
   "execution_count": 121,
   "metadata": {},
   "outputs": [
    {
     "name": "stdout",
     "output_type": "stream",
     "text": [
      "Variance: 42.88591258651567\n"
     ]
    },
    {
     "data": {
      "image/png": "[encoded data removed]",
      "text/plain": [
       "<Figure size 432x288 with 1 Axes>"
      ]
     },
     "metadata": {
      "needs_background": "light"
     },
     "output_type": "display_data"
    }
   ],
   "source": [
    "pca= PCA(n_components= 0.90)\n",
    "pca.fit_transform(temp_df)\n",
    "plt.plot(np.cumsum(pca.explained_variance_ratio_*100))\n",
    "print(\"Variance:\", np.cumsum(pca.explained_variance_ratio_*100)[0])"
   ]
  }
 ],
 "metadata": {
  "kernelspec": {
   "display_name": "Python 3",
   "language": "python",
   "name": "python3"
  },
  "language_info": {
   "codemirror_mode": {
    "name": "ipython",
    "version": 3
   },
   "file_extension": ".py",
   "mimetype": "text/x-python",
   "name": "python",
   "nbconvert_exporter": "python",
   "pygments_lexer": "ipython3",
   "version": "3.7.6"
  }
 },
 "nbformat": 4,
 "nbformat_minor": 4
}
